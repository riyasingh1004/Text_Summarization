{
 "cells": [
  {
   "cell_type": "code",
   "execution_count": 1,
   "metadata": {},
   "outputs": [],
   "source": [
    "file = open(\"data.txt\",\"r\")\n",
    "text = file.read()\n",
    "file.close()\n",
    "#print(text)"
   ]
  },
  {
   "cell_type": "markdown",
   "metadata": {},
   "source": [
    "# Tokenization"
   ]
  },
  {
   "cell_type": "code",
   "execution_count": 2,
   "metadata": {},
   "outputs": [
    {
     "name": "stderr",
     "output_type": "stream",
     "text": [
      "[nltk_data] Downloading package punkt to /home/riya/nltk_data...\n",
      "[nltk_data]   Package punkt is already up-to-date!\n"
     ]
    }
   ],
   "source": [
    "import nltk\n",
    "nltk.download('punkt')   # one time execution\n",
    "from nltk.tokenize import sent_tokenize\n",
    "sentence = sent_tokenize(text)\n",
    "#print(sentence)"
   ]
  },
  {
   "cell_type": "markdown",
   "metadata": {},
   "source": [
    "# Cleaning"
   ]
  },
  {
   "cell_type": "code",
   "execution_count": 3,
   "metadata": {},
   "outputs": [
    {
     "name": "stderr",
     "output_type": "stream",
     "text": [
      "[nltk_data] Downloading package stopwords to /home/riya/nltk_data...\n",
      "[nltk_data]   Package stopwords is already up-to-date!\n"
     ]
    }
   ],
   "source": [
    "import re\n",
    "nltk.download('stopwords')  # one time execution\n",
    "from nltk.corpus import stopwords\n",
    "corpus = []\n",
    "for i in range(len(sentence)):\n",
    "    sen = re.sub('[^a-zA-Z]', \" \", sentence[i])  \n",
    "    sen = sen.lower()                            \n",
    "    sen = sen.split()                         \n",
    "    sen = ' '.join([i for i in sen if i not in stopwords.words('english')])   \n",
    "    corpus.append(sen)\n",
    "#print(corpus)"
   ]
  },
  {
   "cell_type": "markdown",
   "metadata": {},
   "source": [
    "# Vector Representation of Sentences"
   ]
  },
  {
   "cell_type": "code",
   "execution_count": 4,
   "metadata": {},
   "outputs": [
    {
     "name": "stdout",
     "output_type": "stream",
     "text": [
      "<gensim.models.keyedvectors.KeyedVectors object at 0x7fab8635f760>\n"
     ]
    },
    {
     "name": "stderr",
     "output_type": "stream",
     "text": [
      "/home/riya/.local/lib/python3.8/site-packages/requests/__init__.py:89: RequestsDependencyWarning: urllib3 (1.26.8) or chardet (3.0.4) doesn't match a supported version!\n",
      "  warnings.warn(\"urllib3 ({}) or chardet ({}) doesn't match a supported \"\n"
     ]
    }
   ],
   "source": [
    "from gensim.models import Word2Vec\n",
    "all_words = [i.split() for i in corpus]\n",
    "model = Word2Vec(all_words, min_count=1)\n",
    "print(model.wv)"
   ]
  },
  {
   "cell_type": "code",
   "execution_count": 5,
   "metadata": {},
   "outputs": [],
   "source": [
    "sent_vector=[]\n",
    "for i in corpus:\n",
    "    if len(i) != 0:\n",
    "        plus = 0\n",
    "        for j in i.split():\n",
    "            plus+= model.wv[j]\n",
    "        plus = plus/len(i.split())\n",
    "    sent_vector.append(plus)\n",
    "#print(sent_vector)"
   ]
  },
  {
   "cell_type": "markdown",
   "metadata": {},
   "source": [
    "# Clustering"
   ]
  },
  {
   "cell_type": "code",
   "execution_count": 6,
   "metadata": {},
   "outputs": [],
   "source": [
    "import numpy as np\n",
    "from sklearn.cluster import KMeans\n",
    "n_clusters = 10\n",
    "kmeans = KMeans(n_clusters, init = 'k-means++', random_state = 42)\n",
    "y_kmeans = kmeans.fit_predict(sent_vector)"
   ]
  },
  {
   "cell_type": "code",
   "execution_count": 7,
   "metadata": {},
   "outputs": [
    {
     "name": "stdout",
     "output_type": "stream",
     "text": [
      "Thus, in addition to the previously characterized clavulanic acid-inhibited extended-spectrum beta-lactamase CGA-1 of Ambler class A, C. gleum produces a very likely chromosome-borne class B beta-lactamase.Bacterial strains.Cloning and analysis of recombinant plasmids.Southern hybridization was performed as previously described  with whole-cell DNA of C. gleum CIP 103039 by using the enhanced chemiluminescence nonradioactive labeling and detection kit (Amersham Pharmacia Biotech) with a 628-bp PCR-obtained probe with primers internal to blaCGB-1 (primer 1: 5'-GCAAACGCCCGGATACAACAG-3'; primer 2; 5'-TTCCATTCATCATGTCCGGG-3')  beta-Lactamase purification.DNA sequencing and protein analysis.| The nucleotide sequence and deduced beta-lactamase amino acid sequence reported in this work have been assigned to the GenBank and EMBL databases under the accession no. .\n",
      "Cloning experiments.| No plasmid was detected in C. gleum CIP 103039, and direct conjugation experiments failed to transfer any beta-lactam resistance marker from C. gleum CIP 103039 to nalidixic acid-resistant E. coli JM109.Biochemical properties of CGB-1.Induction experiments.FIG.\n"
     ]
    }
   ],
   "source": [
    "from scipy.spatial import distance\n",
    "my_list=[]\n",
    "summaryK = \"\"\n",
    "listK = []\n",
    "for i in range(n_clusters):\n",
    "    my_dict={}\n",
    "    \n",
    "    for j in range(len(y_kmeans)):\n",
    "        \n",
    "        if y_kmeans[j]==i:\n",
    "            my_dict[j] =  distance.euclidean(kmeans.cluster_centers_[i],sent_vector[j])\n",
    "    min_distance = min(my_dict.values())\n",
    "    my_list.append(min(my_dict, key=my_dict.get))\n",
    "                          \n",
    "for i in sorted(my_list):\n",
    "    summaryK += sentence[i]\n",
    "    listK.append(sentence[i])\n",
    "\n",
    "print(summaryK)"
   ]
  },
  {
   "cell_type": "markdown",
   "metadata": {},
   "source": [
    "# Cosine Matrix"
   ]
  },
  {
   "cell_type": "code",
   "execution_count": 8,
   "metadata": {},
   "outputs": [],
   "source": [
    "sim_mat = np.zeros([len(sentence), len(sentence)])\n",
    "from sklearn.metrics.pairwise import cosine_similarity\n",
    "for i in range(len(sentence)):\n",
    "  for j in range(len(sentence)):\n",
    "    if i != j:\n",
    "      sim_mat[i][j] = cosine_similarity(sent_vector[i].reshape(1,100), sent_vector[j].reshape(1,100))[0,0]"
   ]
  },
  {
   "cell_type": "markdown",
   "metadata": {},
   "source": [
    "# TextRank"
   ]
  },
  {
   "cell_type": "code",
   "execution_count": 9,
   "metadata": {},
   "outputs": [],
   "source": [
    "import networkx as nx\n",
    "nx_graph = nx.from_numpy_array(sim_mat)\n",
    "scores = nx.pagerank(nx_graph)"
   ]
  },
  {
   "cell_type": "code",
   "execution_count": 10,
   "metadata": {},
   "outputs": [],
   "source": [
    "ranked_sentences = sorted(((scores[i],s) for i,s in enumerate(sentence)), reverse=True)"
   ]
  },
  {
   "cell_type": "code",
   "execution_count": 11,
   "metadata": {},
   "outputs": [
    {
     "name": "stdout",
     "output_type": "stream",
     "text": [
      "Thus, in addition to the previously characterized clavulanic acid-inhibited extended-spectrum beta-lactamase CGA-1 of Ambler class A, C. gleum produces a very likely chromosome-borne class B beta-lactamase.The mature protein (named CGB-1 for C. gleum class B beta-lactamase) expressed in E. coli DH10B had a relative molecular mass determined experimentally to be ca.The relative molecular mass of the beta-lactamase expressed by a culture of E. coli DH10B(pCGB-1) was estimated by SDS-PAGE analysis, as previously described .| No plasmid was detected in C. gleum CIP 103039, and direct conjugation experiments failed to transfer any beta-lactam resistance marker from C. gleum CIP 103039 to nalidixic acid-resistant E. coli JM109.| Comparison of the amino acid sequence of beta-lactamase CGB-1 with those of IND-1, IND-2, IND-3, and IND-4 from C. indologenes Comparison of the amino acid sequence of beta-lactamase CGB-1 with those of IND-1, IND-2, IND-3, and IND-4 from C. indologenes  and BlaB from C. meningosepticum .| Induction studies with cefoxitin and imipenem as beta-lactam inducers failed to detect induction of beta-lactamase expression with cultures of C. gleum CIP 103039 and of E. coli(pCGB-1) with imipenem as substrate.Determinations of specific activities of purified enzyme and of beta-lactamase extract from C. gleum CIP 103039 were performed with 100 muM imipenem as a substrate as described previously .| Preliminary experiments of imipenem hydrolysis with a beta-lactamase extract of C. gleum CIP 103039 suggested the presence of a carbapenem-hydrolyzing beta-lactamase in addition to a previously characterized class A beta-lactamase .TABLE 1 | MICs of beta-lactams for C. gleum CIP 103039, E. coli DH10B(pCGB-1) expressing CGB-1, E. coli DH10B(pSO-1) expressing IND-1 from C. indologenes OO1, and reference strain E. coli DH10B TABLE 2 | Kinetic parameters of purified CGB-1 from cultures of E. coli DH10B(pCGB-1)However, only one beta-lactamase activity was detected from crude extracts of a culture of C. gleum CIP103039, at a pI of 8.9 that corresponded to the previously identified class A beta-lactamase CGA-1 .\n"
     ]
    }
   ],
   "source": [
    "# Extract top 10 sentences as the summary\n",
    "summaryT = \"\"\n",
    "listT = []\n",
    "for i in range(10):\n",
    "    summaryT += ranked_sentences[i][1]\n",
    "    listT.append(ranked_sentences[i][1])\n",
    "\n",
    "print(summaryT)"
   ]
  },
  {
   "cell_type": "code",
   "execution_count": 16,
   "metadata": {},
   "outputs": [],
   "source": [
    "file = open(\"long.txt\",\"r\")\n",
    "longsum = file.read()\n",
    "file.close()\n",
    "import nltk\n",
    "nltk.download('punkt')   # one time execution\n",
    "from nltk.tokenize import sent_tokenize\n",
    "long_summary = sent_tokenize(longsum)\n",
    "print(long_summary)"
   ]
  },
  {
   "cell_type": "code",
   "execution_count": 24,
   "metadata": {},
   "outputs": [
    {
     "name": "stdout",
     "output_type": "stream",
     "text": [
      "TextRanking Scores : \n",
      "[{'rouge-1': {'r': 0.6197183098591549, 'p': 0.3120567375886525, 'f': 0.41509433516776434}, 'rouge-2': {'r': 0.4, 'p': 0.14107883817427386, 'f': 0.2085889532001581}, 'rouge-l': {'r': 0.6056338028169014, 'p': 0.3049645390070922, 'f': 0.4056603729036134}}]\n",
      "\n",
      "\n",
      "KMeans Scores : \n",
      "[{'rouge-1': {'r': 0.4788732394366197, 'p': 0.3008849557522124, 'f': 0.3695652126518195}, 'rouge-2': {'r': 0.3411764705882353, 'p': 0.19863013698630136, 'f': 0.25108224643091404}, 'rouge-l': {'r': 0.4788732394366197, 'p': 0.3008849557522124, 'f': 0.3695652126518195}}]\n"
     ]
    }
   ],
   "source": [
    "from rouge import Rouge\n",
    "rouge = Rouge()\n",
    "print(\"TextRanking Scores : \")\n",
    "scores1 = rouge.get_scores(summaryT,longsum)\n",
    "print(scores1)\n",
    "print(\"\\n\")\n",
    "print(\"KMeans Scores : \")\n",
    "scores2 = rouge.get_scores(summaryK,longsum)\n",
    "print(scores2)\n"
   ]
  },
  {
   "cell_type": "code",
   "execution_count": null,
   "metadata": {},
   "outputs": [],
   "source": []
  }
 ],
 "metadata": {
  "kernelspec": {
   "display_name": "Python 3",
   "language": "python",
   "name": "python3"
  },
  "language_info": {
   "codemirror_mode": {
    "name": "ipython",
    "version": 3
   },
   "file_extension": ".py",
   "mimetype": "text/x-python",
   "name": "python",
   "nbconvert_exporter": "python",
   "pygments_lexer": "ipython3",
   "version": "3.8.10"
  }
 },
 "nbformat": 4,
 "nbformat_minor": 4
}
